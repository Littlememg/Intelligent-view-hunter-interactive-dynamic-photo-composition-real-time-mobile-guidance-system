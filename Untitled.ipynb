{
 "cells": [
  {
   "cell_type": "code",
   "execution_count": 22,
   "metadata": {
    "scrolled": false
   },
   "outputs": [],
   "source": [
    "import cv2\n",
    "import numpy as np\n",
    "# load\n",
    "photo_number = 12565\n",
    "\n",
    "def convertScale(img, alpha, beta):\n",
    "    \"\"\"Add bias and gain to an image with saturation arithmetics. Unlike\n",
    "    cv2.convertScaleAbs, it does not take an absolute value, which would lead to\n",
    "    nonsensical results (e.g., a pixel at 44 with alpha = 3 and beta = -210\n",
    "    becomes 78 with OpenCV, when in fact it should become 0).\n",
    "    \"\"\"\n",
    "\n",
    "    new_img = img * alpha + beta\n",
    "    new_img[new_img < 0] = 0\n",
    "    new_img[new_img > 255] = 255\n",
    "    return new_img.astype(np.uint8)\n",
    "\n",
    "# Automatic brightness and contrast optimization with optional histogram clipping\n",
    "def automatic_brightness_and_contrast(image, clip_hist_percent=25):\n",
    "    gray = cv2.cvtColor(image, cv2.COLOR_BGR2GRAY)\n",
    "\n",
    "    # Calculate grayscale histogram\n",
    "    hist = cv2.calcHist([gray],[0],None,[256],[0,256])\n",
    "    hist_size = len(hist)\n",
    "\n",
    "    # Calculate cumulative distribution from the histogram\n",
    "    accumulator = []\n",
    "    accumulator.append(float(hist[0]))\n",
    "    for index in range(1, hist_size):\n",
    "        accumulator.append(accumulator[index -1] + float(hist[index]))\n",
    "\n",
    "    # Locate points to clip\n",
    "    maximum = accumulator[-1]\n",
    "    clip_hist_percent *= (maximum/100.0)\n",
    "    clip_hist_percent /= 2.0\n",
    "\n",
    "    # Locate left cut\n",
    "    minimum_gray = 0\n",
    "    while accumulator[minimum_gray] < clip_hist_percent:\n",
    "        minimum_gray += 1\n",
    "\n",
    "    # Locate right cut\n",
    "    maximum_gray = hist_size -1\n",
    "    while accumulator[maximum_gray] >= (maximum - clip_hist_percent):\n",
    "            maximum_gray -= 1\n",
    "\n",
    "    # Calculate alpha and beta values\n",
    "    if maximum_gray - minimum_gray == 0:\n",
    "        alpha = 255\n",
    "    else:\n",
    "        alpha = 255 / (maximum_gray - minimum_gray)\n",
    "    beta = -minimum_gray * alpha\n",
    "\n",
    "    '''\n",
    "    # Calculate new histogram with desired range and show histogram \n",
    "    new_hist = cv2.calcHist([gray],[0],None,[256],[minimum_gray,maximum_gray])\n",
    "    plt.plot(hist)\n",
    "    plt.plot(new_hist)\n",
    "    plt.xlim([0,256])\n",
    "    plt.show()\n",
    "    '''\n",
    "\n",
    "    auto_result = convertScale(image, alpha=alpha, beta=beta)\n",
    "    return (auto_result, alpha, beta)\n",
    "\n",
    "for i in range(7216,photo_number+1):\n",
    "    img = cv2.imread('./example_images/ ('+str(i)+').jpg')\n",
    "    \n",
    "    auto_result, alpha, beta = automatic_brightness_and_contrast(img)\n",
    "    # 水平翻转\n",
    "    flip_horiz_img = cv2.flip(img, 1)\n",
    "    # 垂直翻转\n",
    "    #flip_verti_img = cv2.flip(img, 0)\n",
    "    # 水平垂直翻转\n",
    "    #flip_horandver_img = cv2.flip(img, -1)\n",
    "    \n",
    "    cv2.imwrite('./example_images/FHI('+str(i)+').jpg',flip_horiz_img)\n",
    "    cv2.imwrite('./example_images/Light('+str(i)+').jpg', auto_result)\n",
    "    \n",
    "    img = cv2.imread('./example_images/FHI('+str(i)+').jpg')\n",
    "    auto_result, alpha, beta = automatic_brightness_and_contrast(img)\n",
    "    cv2.imwrite('./example_images/FHI_Light('+str(i)+').jpg',auto_result)\n"
   ]
  },
  {
   "cell_type": "code",
   "execution_count": 23,
   "metadata": {
    "scrolled": false
   },
   "outputs": [
    {
     "name": "stdout",
     "output_type": "stream",
     "text": [
      "5558 1699 2660 2648\n"
     ]
    },
    {
     "data": {
      "text/plain": [
       "<Figure size 2000x2000 with 5 Axes>"
      ]
     },
     "metadata": {},
     "output_type": "display_data"
    },
    {
     "data": {
      "text/plain": [
       "<Figure size 2000x2000 with 5 Axes>"
      ]
     },
     "metadata": {},
     "output_type": "display_data"
    },
    {
     "data": {
      "text/plain": [
       "<Figure size 2000x2000 with 5 Axes>"
      ]
     },
     "metadata": {},
     "output_type": "display_data"
    },
    {
     "data": {
      "text/plain": [
       "<Figure size 2000x2000 with 5 Axes>"
      ]
     },
     "metadata": {},
     "output_type": "display_data"
    },
    {
     "data": {
      "text/plain": [
       "<Figure size 2000x2000 with 5 Axes>"
      ]
     },
     "metadata": {},
     "output_type": "display_data"
    },
    {
     "data": {
      "text/plain": [
       "<Figure size 2000x2000 with 5 Axes>"
      ]
     },
     "metadata": {},
     "output_type": "display_data"
    },
    {
     "data": {
      "text/plain": [
       "<Figure size 2000x2000 with 5 Axes>"
      ]
     },
     "metadata": {},
     "output_type": "display_data"
    },
    {
     "data": {
      "text/plain": [
       "<Figure size 2000x2000 with 5 Axes>"
      ]
     },
     "metadata": {},
     "output_type": "display_data"
    },
    {
     "data": {
      "text/plain": [
       "<Figure size 2000x2000 with 5 Axes>"
      ]
     },
     "metadata": {},
     "output_type": "display_data"
    },
    {
     "data": {
      "text/plain": [
       "<Figure size 2000x2000 with 5 Axes>"
      ]
     },
     "metadata": {},
     "output_type": "display_data"
    },
    {
     "data": {
      "text/plain": [
       "<Figure size 2000x2000 with 5 Axes>"
      ]
     },
     "metadata": {},
     "output_type": "display_data"
    },
    {
     "data": {
      "text/plain": [
       "<Figure size 2000x2000 with 5 Axes>"
      ]
     },
     "metadata": {},
     "output_type": "display_data"
    },
    {
     "data": {
      "text/plain": [
       "<Figure size 2000x2000 with 5 Axes>"
      ]
     },
     "metadata": {},
     "output_type": "display_data"
    },
    {
     "data": {
      "text/plain": [
       "<Figure size 2000x2000 with 5 Axes>"
      ]
     },
     "metadata": {},
     "output_type": "display_data"
    },
    {
     "data": {
      "text/plain": [
       "<Figure size 2000x2000 with 5 Axes>"
      ]
     },
     "metadata": {},
     "output_type": "display_data"
    },
    {
     "data": {
      "text/plain": [
       "<Figure size 2000x2000 with 5 Axes>"
      ]
     },
     "metadata": {},
     "output_type": "display_data"
    },
    {
     "data": {
      "text/plain": [
       "<Figure size 2000x2000 with 5 Axes>"
      ]
     },
     "metadata": {},
     "output_type": "display_data"
    },
    {
     "ename": "KeyboardInterrupt",
     "evalue": "",
     "output_type": "error",
     "traceback": [
      "\u001b[1;31m---------------------------------------------------------------------------\u001b[0m",
      "\u001b[1;31mKeyboardInterrupt\u001b[0m                         Traceback (most recent call last)",
      "\u001b[1;32m<ipython-input-23-649203d03947>\u001b[0m in \u001b[0;36m<module>\u001b[1;34m\u001b[0m\n\u001b[0;32m    161\u001b[0m                 \u001b[0mcropped\u001b[0m\u001b[1;33m.\u001b[0m\u001b[0msave\u001b[0m\u001b[1;33m(\u001b[0m\u001b[1;34m\"result_image/cv_scut\"\u001b[0m\u001b[1;33m+\u001b[0m\u001b[0mstr\u001b[0m\u001b[1;33m(\u001b[0m\u001b[0mk\u001b[0m\u001b[1;33m)\u001b[0m\u001b[1;33m+\u001b[0m\u001b[0mnames\u001b[0m\u001b[1;33m[\u001b[0m\u001b[0mi\u001b[0m\u001b[1;33m+\u001b[0m\u001b[0mphoto_number\u001b[0m\u001b[1;33m*\u001b[0m\u001b[1;36m3\u001b[0m\u001b[1;33m]\u001b[0m\u001b[1;33m)\u001b[0m\u001b[1;33m\u001b[0m\u001b[1;33m\u001b[0m\u001b[0m\n\u001b[0;32m    162\u001b[0m             \u001b[0ms_image_path\u001b[0m \u001b[1;33m=\u001b[0m \u001b[0mos\u001b[0m\u001b[1;33m.\u001b[0m\u001b[0mpath\u001b[0m\u001b[1;33m.\u001b[0m\u001b[0mjoin\u001b[0m\u001b[1;33m(\u001b[0m\u001b[0mimage_path_root\u001b[0m\u001b[1;33m,\u001b[0m \u001b[0mnames\u001b[0m\u001b[1;33m[\u001b[0m\u001b[0mi\u001b[0m\u001b[1;33m+\u001b[0m\u001b[0mphoto_number\u001b[0m\u001b[1;33m*\u001b[0m\u001b[1;36m3\u001b[0m\u001b[1;33m]\u001b[0m\u001b[1;33m)\u001b[0m\u001b[1;33m\u001b[0m\u001b[1;33m\u001b[0m\u001b[0m\n\u001b[1;32m--> 163\u001b[1;33m             \u001b[0mviewBBoxes\u001b[0m\u001b[1;33m(\u001b[0m\u001b[0ms_image_path\u001b[0m\u001b[1;33m,\u001b[0m \u001b[0mbboxes\u001b[0m\u001b[1;33m,\u001b[0m \u001b[0mscores\u001b[0m\u001b[1;33m)\u001b[0m\u001b[1;33m\u001b[0m\u001b[1;33m\u001b[0m\u001b[0m\n\u001b[0m\u001b[0;32m    164\u001b[0m \u001b[1;33m\u001b[0m\u001b[0m\n\u001b[0;32m    165\u001b[0m     \u001b[1;32melif\u001b[0m \u001b[0mmarks\u001b[0m\u001b[1;33m[\u001b[0m\u001b[0mi\u001b[0m\u001b[1;33m]\u001b[0m\u001b[1;33m<\u001b[0m\u001b[0mmarks\u001b[0m\u001b[1;33m[\u001b[0m\u001b[0mi\u001b[0m\u001b[1;33m+\u001b[0m\u001b[0mphoto_number\u001b[0m\u001b[1;33m*\u001b[0m\u001b[1;36m2\u001b[0m\u001b[1;33m]\u001b[0m \u001b[1;32mand\u001b[0m \u001b[0mmarks\u001b[0m\u001b[1;33m[\u001b[0m\u001b[0mi\u001b[0m\u001b[1;33m+\u001b[0m\u001b[0mphoto_number\u001b[0m\u001b[1;33m]\u001b[0m \u001b[1;33m<\u001b[0m \u001b[0mmarks\u001b[0m\u001b[1;33m[\u001b[0m\u001b[0mi\u001b[0m\u001b[1;33m+\u001b[0m\u001b[0mphoto_number\u001b[0m\u001b[1;33m*\u001b[0m\u001b[1;36m2\u001b[0m\u001b[1;33m]\u001b[0m \u001b[1;32mand\u001b[0m \u001b[0mmarks\u001b[0m\u001b[1;33m[\u001b[0m\u001b[0mi\u001b[0m\u001b[1;33m+\u001b[0m\u001b[0mphoto_number\u001b[0m\u001b[1;33m*\u001b[0m\u001b[1;36m3\u001b[0m\u001b[1;33m]\u001b[0m\u001b[1;33m<\u001b[0m\u001b[0mmarks\u001b[0m\u001b[1;33m[\u001b[0m\u001b[0mi\u001b[0m\u001b[1;33m+\u001b[0m\u001b[0mphoto_number\u001b[0m\u001b[1;33m*\u001b[0m\u001b[1;36m2\u001b[0m\u001b[1;33m]\u001b[0m\u001b[1;33m:\u001b[0m\u001b[1;33m\u001b[0m\u001b[1;33m\u001b[0m\u001b[0m\n",
      "\u001b[1;32m<ipython-input-23-649203d03947>\u001b[0m in \u001b[0;36mviewBBoxes\u001b[1;34m(image_file, bboxes, titles, showImageName)\u001b[0m\n\u001b[0;32m     23\u001b[0m     \u001b[1;32mfor\u001b[0m \u001b[0midx\u001b[0m\u001b[1;33m,\u001b[0m \u001b[0ms_bbox\u001b[0m \u001b[1;32min\u001b[0m \u001b[0menumerate\u001b[0m\u001b[1;33m(\u001b[0m\u001b[0mbboxes\u001b[0m\u001b[1;33m)\u001b[0m\u001b[1;33m:\u001b[0m\u001b[1;33m\u001b[0m\u001b[1;33m\u001b[0m\u001b[0m\n\u001b[0;32m     24\u001b[0m         \u001b[0max\u001b[0m \u001b[1;33m=\u001b[0m\u001b[0mfig\u001b[0m\u001b[1;33m.\u001b[0m\u001b[0madd_subplot\u001b[0m\u001b[1;33m(\u001b[0m\u001b[0mn_rows\u001b[0m\u001b[1;33m,\u001b[0m \u001b[0mn_items_per_row\u001b[0m\u001b[1;33m,\u001b[0m \u001b[0midx\u001b[0m\u001b[1;33m+\u001b[0m\u001b[1;36m1\u001b[0m\u001b[1;33m)\u001b[0m\u001b[1;33m\u001b[0m\u001b[1;33m\u001b[0m\u001b[0m\n\u001b[1;32m---> 25\u001b[1;33m         \u001b[0max\u001b[0m\u001b[1;33m.\u001b[0m\u001b[0mimshow\u001b[0m\u001b[1;33m(\u001b[0m\u001b[0mimage\u001b[0m\u001b[1;33m)\u001b[0m\u001b[1;33m\u001b[0m\u001b[1;33m\u001b[0m\u001b[0m\n\u001b[0m\u001b[0;32m     26\u001b[0m         \u001b[0max\u001b[0m\u001b[1;33m.\u001b[0m\u001b[0mset_axis_off\u001b[0m\u001b[1;33m(\u001b[0m\u001b[1;33m)\u001b[0m\u001b[1;33m\u001b[0m\u001b[1;33m\u001b[0m\u001b[0m\n\u001b[0;32m     27\u001b[0m \u001b[1;33m\u001b[0m\u001b[0m\n",
      "\u001b[1;32m~\\Anaconda3\\lib\\site-packages\\matplotlib\\__init__.py\u001b[0m in \u001b[0;36minner\u001b[1;34m(ax, data, *args, **kwargs)\u001b[0m\n\u001b[0;32m   1597\u001b[0m     \u001b[1;32mdef\u001b[0m \u001b[0minner\u001b[0m\u001b[1;33m(\u001b[0m\u001b[0max\u001b[0m\u001b[1;33m,\u001b[0m \u001b[1;33m*\u001b[0m\u001b[0margs\u001b[0m\u001b[1;33m,\u001b[0m \u001b[0mdata\u001b[0m\u001b[1;33m=\u001b[0m\u001b[1;32mNone\u001b[0m\u001b[1;33m,\u001b[0m \u001b[1;33m**\u001b[0m\u001b[0mkwargs\u001b[0m\u001b[1;33m)\u001b[0m\u001b[1;33m:\u001b[0m\u001b[1;33m\u001b[0m\u001b[1;33m\u001b[0m\u001b[0m\n\u001b[0;32m   1598\u001b[0m         \u001b[1;32mif\u001b[0m \u001b[0mdata\u001b[0m \u001b[1;32mis\u001b[0m \u001b[1;32mNone\u001b[0m\u001b[1;33m:\u001b[0m\u001b[1;33m\u001b[0m\u001b[1;33m\u001b[0m\u001b[0m\n\u001b[1;32m-> 1599\u001b[1;33m             \u001b[1;32mreturn\u001b[0m \u001b[0mfunc\u001b[0m\u001b[1;33m(\u001b[0m\u001b[0max\u001b[0m\u001b[1;33m,\u001b[0m \u001b[1;33m*\u001b[0m\u001b[0mmap\u001b[0m\u001b[1;33m(\u001b[0m\u001b[0msanitize_sequence\u001b[0m\u001b[1;33m,\u001b[0m \u001b[0margs\u001b[0m\u001b[1;33m)\u001b[0m\u001b[1;33m,\u001b[0m \u001b[1;33m**\u001b[0m\u001b[0mkwargs\u001b[0m\u001b[1;33m)\u001b[0m\u001b[1;33m\u001b[0m\u001b[1;33m\u001b[0m\u001b[0m\n\u001b[0m\u001b[0;32m   1600\u001b[0m \u001b[1;33m\u001b[0m\u001b[0m\n\u001b[0;32m   1601\u001b[0m         \u001b[0mbound\u001b[0m \u001b[1;33m=\u001b[0m \u001b[0mnew_sig\u001b[0m\u001b[1;33m.\u001b[0m\u001b[0mbind\u001b[0m\u001b[1;33m(\u001b[0m\u001b[0max\u001b[0m\u001b[1;33m,\u001b[0m \u001b[1;33m*\u001b[0m\u001b[0margs\u001b[0m\u001b[1;33m,\u001b[0m \u001b[1;33m**\u001b[0m\u001b[0mkwargs\u001b[0m\u001b[1;33m)\u001b[0m\u001b[1;33m\u001b[0m\u001b[1;33m\u001b[0m\u001b[0m\n",
      "\u001b[1;32m~\\Anaconda3\\lib\\site-packages\\matplotlib\\cbook\\deprecation.py\u001b[0m in \u001b[0;36mwrapper\u001b[1;34m(*args, **kwargs)\u001b[0m\n\u001b[0;32m    367\u001b[0m                 \u001b[1;34mf\"%(removal)s.  If any parameter follows {name!r}, they \"\u001b[0m\u001b[1;33m\u001b[0m\u001b[1;33m\u001b[0m\u001b[0m\n\u001b[0;32m    368\u001b[0m                 f\"should be pass as keyword, not positionally.\")\n\u001b[1;32m--> 369\u001b[1;33m         \u001b[1;32mreturn\u001b[0m \u001b[0mfunc\u001b[0m\u001b[1;33m(\u001b[0m\u001b[1;33m*\u001b[0m\u001b[0margs\u001b[0m\u001b[1;33m,\u001b[0m \u001b[1;33m**\u001b[0m\u001b[0mkwargs\u001b[0m\u001b[1;33m)\u001b[0m\u001b[1;33m\u001b[0m\u001b[1;33m\u001b[0m\u001b[0m\n\u001b[0m\u001b[0;32m    370\u001b[0m \u001b[1;33m\u001b[0m\u001b[0m\n\u001b[0;32m    371\u001b[0m     \u001b[1;32mreturn\u001b[0m \u001b[0mwrapper\u001b[0m\u001b[1;33m\u001b[0m\u001b[1;33m\u001b[0m\u001b[0m\n",
      "\u001b[1;32m~\\Anaconda3\\lib\\site-packages\\matplotlib\\cbook\\deprecation.py\u001b[0m in \u001b[0;36mwrapper\u001b[1;34m(*args, **kwargs)\u001b[0m\n\u001b[0;32m    367\u001b[0m                 \u001b[1;34mf\"%(removal)s.  If any parameter follows {name!r}, they \"\u001b[0m\u001b[1;33m\u001b[0m\u001b[1;33m\u001b[0m\u001b[0m\n\u001b[0;32m    368\u001b[0m                 f\"should be pass as keyword, not positionally.\")\n\u001b[1;32m--> 369\u001b[1;33m         \u001b[1;32mreturn\u001b[0m \u001b[0mfunc\u001b[0m\u001b[1;33m(\u001b[0m\u001b[1;33m*\u001b[0m\u001b[0margs\u001b[0m\u001b[1;33m,\u001b[0m \u001b[1;33m**\u001b[0m\u001b[0mkwargs\u001b[0m\u001b[1;33m)\u001b[0m\u001b[1;33m\u001b[0m\u001b[1;33m\u001b[0m\u001b[0m\n\u001b[0m\u001b[0;32m    370\u001b[0m \u001b[1;33m\u001b[0m\u001b[0m\n\u001b[0;32m    371\u001b[0m     \u001b[1;32mreturn\u001b[0m \u001b[0mwrapper\u001b[0m\u001b[1;33m\u001b[0m\u001b[1;33m\u001b[0m\u001b[0m\n",
      "\u001b[1;32m~\\Anaconda3\\lib\\site-packages\\matplotlib\\axes\\_axes.py\u001b[0m in \u001b[0;36mimshow\u001b[1;34m(self, X, cmap, norm, aspect, interpolation, alpha, vmin, vmax, origin, extent, shape, filternorm, filterrad, imlim, resample, url, **kwargs)\u001b[0m\n\u001b[0;32m   5677\u001b[0m                               resample=resample, **kwargs)\n\u001b[0;32m   5678\u001b[0m \u001b[1;33m\u001b[0m\u001b[0m\n\u001b[1;32m-> 5679\u001b[1;33m         \u001b[0mim\u001b[0m\u001b[1;33m.\u001b[0m\u001b[0mset_data\u001b[0m\u001b[1;33m(\u001b[0m\u001b[0mX\u001b[0m\u001b[1;33m)\u001b[0m\u001b[1;33m\u001b[0m\u001b[1;33m\u001b[0m\u001b[0m\n\u001b[0m\u001b[0;32m   5680\u001b[0m         \u001b[0mim\u001b[0m\u001b[1;33m.\u001b[0m\u001b[0mset_alpha\u001b[0m\u001b[1;33m(\u001b[0m\u001b[0malpha\u001b[0m\u001b[1;33m)\u001b[0m\u001b[1;33m\u001b[0m\u001b[1;33m\u001b[0m\u001b[0m\n\u001b[0;32m   5681\u001b[0m         \u001b[1;32mif\u001b[0m \u001b[0mim\u001b[0m\u001b[1;33m.\u001b[0m\u001b[0mget_clip_path\u001b[0m\u001b[1;33m(\u001b[0m\u001b[1;33m)\u001b[0m \u001b[1;32mis\u001b[0m \u001b[1;32mNone\u001b[0m\u001b[1;33m:\u001b[0m\u001b[1;33m\u001b[0m\u001b[1;33m\u001b[0m\u001b[0m\n",
      "\u001b[1;32m~\\Anaconda3\\lib\\site-packages\\matplotlib\\image.py\u001b[0m in \u001b[0;36mset_data\u001b[1;34m(self, A)\u001b[0m\n\u001b[0;32m    678\u001b[0m             \u001b[1;32mif\u001b[0m \u001b[0misinstance\u001b[0m\u001b[1;33m(\u001b[0m\u001b[0mA\u001b[0m\u001b[1;33m,\u001b[0m \u001b[0mImage\u001b[0m\u001b[1;33m.\u001b[0m\u001b[0mImage\u001b[0m\u001b[1;33m)\u001b[0m\u001b[1;33m:\u001b[0m\u001b[1;33m\u001b[0m\u001b[1;33m\u001b[0m\u001b[0m\n\u001b[0;32m    679\u001b[0m                 \u001b[0mA\u001b[0m \u001b[1;33m=\u001b[0m \u001b[0mpil_to_array\u001b[0m\u001b[1;33m(\u001b[0m\u001b[0mA\u001b[0m\u001b[1;33m)\u001b[0m  \u001b[1;31m# Needed e.g. to apply png palette.\u001b[0m\u001b[1;33m\u001b[0m\u001b[1;33m\u001b[0m\u001b[0m\n\u001b[1;32m--> 680\u001b[1;33m         \u001b[0mself\u001b[0m\u001b[1;33m.\u001b[0m\u001b[0m_A\u001b[0m \u001b[1;33m=\u001b[0m \u001b[0mcbook\u001b[0m\u001b[1;33m.\u001b[0m\u001b[0msafe_masked_invalid\u001b[0m\u001b[1;33m(\u001b[0m\u001b[0mA\u001b[0m\u001b[1;33m,\u001b[0m \u001b[0mcopy\u001b[0m\u001b[1;33m=\u001b[0m\u001b[1;32mTrue\u001b[0m\u001b[1;33m)\u001b[0m\u001b[1;33m\u001b[0m\u001b[1;33m\u001b[0m\u001b[0m\n\u001b[0m\u001b[0;32m    681\u001b[0m \u001b[1;33m\u001b[0m\u001b[0m\n\u001b[0;32m    682\u001b[0m         if (self._A.dtype != np.uint8 and\n",
      "\u001b[1;32m~\\Anaconda3\\lib\\site-packages\\matplotlib\\cbook\\__init__.py\u001b[0m in \u001b[0;36msafe_masked_invalid\u001b[1;34m(x, copy)\u001b[0m\n\u001b[0;32m    802\u001b[0m \u001b[1;33m\u001b[0m\u001b[0m\n\u001b[0;32m    803\u001b[0m     \u001b[1;32mtry\u001b[0m\u001b[1;33m:\u001b[0m\u001b[1;33m\u001b[0m\u001b[1;33m\u001b[0m\u001b[0m\n\u001b[1;32m--> 804\u001b[1;33m         \u001b[0mxm\u001b[0m \u001b[1;33m=\u001b[0m \u001b[0mnp\u001b[0m\u001b[1;33m.\u001b[0m\u001b[0mma\u001b[0m\u001b[1;33m.\u001b[0m\u001b[0mmasked_invalid\u001b[0m\u001b[1;33m(\u001b[0m\u001b[0mx\u001b[0m\u001b[1;33m,\u001b[0m \u001b[0mcopy\u001b[0m\u001b[1;33m=\u001b[0m\u001b[1;32mFalse\u001b[0m\u001b[1;33m)\u001b[0m\u001b[1;33m\u001b[0m\u001b[1;33m\u001b[0m\u001b[0m\n\u001b[0m\u001b[0;32m    805\u001b[0m         \u001b[0mxm\u001b[0m\u001b[1;33m.\u001b[0m\u001b[0mshrink_mask\u001b[0m\u001b[1;33m(\u001b[0m\u001b[1;33m)\u001b[0m\u001b[1;33m\u001b[0m\u001b[1;33m\u001b[0m\u001b[0m\n\u001b[0;32m    806\u001b[0m     \u001b[1;32mexcept\u001b[0m \u001b[0mTypeError\u001b[0m\u001b[1;33m:\u001b[0m\u001b[1;33m\u001b[0m\u001b[1;33m\u001b[0m\u001b[0m\n",
      "\u001b[1;32m~\\Anaconda3\\lib\\site-packages\\numpy\\ma\\core.py\u001b[0m in \u001b[0;36mmasked_invalid\u001b[1;34m(a, copy)\u001b[0m\n\u001b[0;32m   2364\u001b[0m         \u001b[0mcls\u001b[0m \u001b[1;33m=\u001b[0m \u001b[0mtype\u001b[0m\u001b[1;33m(\u001b[0m\u001b[0ma\u001b[0m\u001b[1;33m)\u001b[0m\u001b[1;33m\u001b[0m\u001b[1;33m\u001b[0m\u001b[0m\n\u001b[0;32m   2365\u001b[0m     \u001b[1;32melse\u001b[0m\u001b[1;33m:\u001b[0m\u001b[1;33m\u001b[0m\u001b[1;33m\u001b[0m\u001b[0m\n\u001b[1;32m-> 2366\u001b[1;33m         \u001b[0mcondition\u001b[0m \u001b[1;33m=\u001b[0m \u001b[1;33m~\u001b[0m\u001b[1;33m(\u001b[0m\u001b[0mnp\u001b[0m\u001b[1;33m.\u001b[0m\u001b[0misfinite\u001b[0m\u001b[1;33m(\u001b[0m\u001b[0ma\u001b[0m\u001b[1;33m)\u001b[0m\u001b[1;33m)\u001b[0m\u001b[1;33m\u001b[0m\u001b[1;33m\u001b[0m\u001b[0m\n\u001b[0m\u001b[0;32m   2367\u001b[0m         \u001b[0mcls\u001b[0m \u001b[1;33m=\u001b[0m \u001b[0mMaskedArray\u001b[0m\u001b[1;33m\u001b[0m\u001b[1;33m\u001b[0m\u001b[0m\n\u001b[0;32m   2368\u001b[0m     \u001b[0mresult\u001b[0m \u001b[1;33m=\u001b[0m \u001b[0ma\u001b[0m\u001b[1;33m.\u001b[0m\u001b[0mview\u001b[0m\u001b[1;33m(\u001b[0m\u001b[0mcls\u001b[0m\u001b[1;33m)\u001b[0m\u001b[1;33m\u001b[0m\u001b[1;33m\u001b[0m\u001b[0m\n",
      "\u001b[1;31mKeyboardInterrupt\u001b[0m: "
     ]
    }
   ],
   "source": [
    "import os\n",
    "from PIL import Image\n",
    "import matplotlib.pyplot as plt\n",
    "import matplotlib.patches as patches\n",
    "import numpy as np\n",
    "import project_utils\n",
    "# from datasets.get_test_image_list import get_test_list, get_pdefined_anchors, getImagePath\n",
    "from py_utils import dir_utils, load_utils\n",
    "\n",
    "\n",
    "def viewBBoxes(image_file, bboxes, titles, showImageName=True):\n",
    "\n",
    "    n_items_per_row = 4\n",
    "    image = Image.open(image_file)\n",
    "    image = np.array(image, dtype=np.uint8)\n",
    "    n_crops = len(bboxes)\n",
    "    n_rows = n_crops // n_items_per_row + 1\n",
    "\n",
    "    fig = plt.figure(figsize=[20, 20])\n",
    "    if showImageName:\n",
    "        fig.suptitle(os.path.basename(image_file))\n",
    "\n",
    "    for idx, s_bbox in enumerate(bboxes):\n",
    "        ax =fig.add_subplot(n_rows, n_items_per_row, idx+1)\n",
    "        ax.imshow(image)\n",
    "        ax.set_axis_off()\n",
    "\n",
    "        ax.set_title(titles[idx])\n",
    "\n",
    "        rect_i = patches.Rectangle((s_bbox[0], s_bbox[1]), s_bbox[2]-s_bbox[0], s_bbox[3]-s_bbox[1], \n",
    "                                   linewidth=2, edgecolor='yellow', facecolor='none')\n",
    "        # Add the patch to the Axes\n",
    "        ax.add_patch(rect_i)\n",
    "    plt.show(block=False)\n",
    "    #raw_input(\"Press Enter to continue...\")\n",
    "    #plt.close()\n",
    "\n",
    "\n",
    "\n",
    "annotation_path = 'ProposalResults/ViewProposalResults-tmp.txt'\n",
    "image_path_root = 'example_images/'\n",
    "\n",
    "image_data = load_utils.load_json(annotation_path)\n",
    "image_name_list = sorted(image_data)\n",
    "\n",
    "names = []\n",
    "marks = []\n",
    "bbboxes = []\n",
    "light_flip = 0\n",
    "normal = 0\n",
    "light = 0\n",
    "flip = 0\n",
    "photo_number = 12565\n",
    "for idx, image_name in enumerate(image_name_list):\n",
    "    #if idx<20:4444444\n",
    "    #    continue\n",
    "    \n",
    "    bboxes = image_data[image_name]['bboxes']\n",
    "    scores = image_data[image_name]['scores']\n",
    "    names.append(image_name)\n",
    "    bbboxes.append(bboxes)\n",
    "    marks.append(scores)\n",
    "\n",
    "for i in range(photo_number):\n",
    "    if marks[i]<marks[i+photo_number] and marks[i+photo_number*2]<marks[i+photo_number] and marks[i+photo_number*3]<marks[i+photo_number]:\n",
    "        flip+=1\n",
    "    elif marks[i+photo_number]<marks[i] and marks[i+photo_number*2] < marks[i] and marks[i+photo_number*3]<marks[i]:\n",
    "        normal+=1\n",
    "    elif marks[i]<marks[i+photo_number*2] and marks[i+photo_number] < marks[i+photo_number*2] and marks[i+photo_number*3]<marks[i+photo_number*2]:\n",
    "        light+=1\n",
    "    elif marks[i]<marks[i+photo_number*3] and marks[i+photo_number] < marks[i+photo_number*3] and marks[i+photo_number*2]<marks[i+photo_number*3]:\n",
    "        light_flip+=1\n",
    "        \n",
    "print(normal,light,flip,light_flip)\n",
    "    \n",
    "for i in range(photo_number):\n",
    "    if marks[i]<marks[i+photo_number] and marks[i+photo_number*2]<marks[i+photo_number] and marks[i+photo_number*3]<marks[i+photo_number]:\n",
    "        bboxes = bbboxes[i+photo_number]\n",
    "        scores = marks[i+photo_number]\n",
    "    \n",
    "        img = Image.open(\"example_images/\"+names[i+photo_number])\n",
    "        for j in range(5):\n",
    "            cropped = img.crop(bbboxes[i+photo_number][j])\n",
    "            cropped.save(\"result_image/cv_cut\"+str(j)+names[i+photo_number])\n",
    "        s_image_path = os.path.join(image_path_root, names[i+photo_number])\n",
    "        viewBBoxes(s_image_path, bboxes, scores)\n",
    "        \n",
    "        if marks[i+photo_number*2]<marks[i] and marks[i+photo_number*3]<marks[i]:\n",
    "            bboxes = bbboxes[i]\n",
    "            scores = marks[i]\n",
    "            \n",
    "            img = Image.open(\"example_images/\"+names[i])\n",
    "            for k in range(5):\n",
    "                cropped = img.crop(bbboxes[i][k])\n",
    "                cropped.save(\"result_image/cv_scut\"+str(k)+names[i])\n",
    "            s_image_path = os.path.join(image_path_root, names[i])\n",
    "            viewBBoxes(s_image_path, bboxes, scores)\n",
    "                             \n",
    "        elif marks[i]<marks[i+photo_number*2] and marks[i+photo_number*3]<marks[i+photo_number*2]:\n",
    "            bboxes = bbboxes[i+photo_number*2]\n",
    "            scores = marks[i+photo_number*2]\n",
    "                             \n",
    "            img = Image.open(\"example_images/\"+names[i+photo_number*2])\n",
    "            for k in range(5):\n",
    "                cropped = img.crop(bbboxes[i+photo_number*2][k])\n",
    "                cropped.save(\"result_image/cv_scut\"+str(k)+names[i+photo_number*2])\n",
    "            s_image_path = os.path.join(image_path_root, names[i+photo_number*2])\n",
    "            viewBBoxes(s_image_path, bboxes, scores)\n",
    "                             \n",
    "        elif marks[i]<marks[i+photo_number*3] and marks[i+photo_number*2]<marks[i+photo_number*3]:\n",
    "            bboxes = bbboxes[i+photo_number*3]\n",
    "            scores = marks[i+photo_number*3]\n",
    "                             \n",
    "            img = Image.open(\"example_images/\"+names[i+photo_number*3])\n",
    "            for k in range(5):\n",
    "                cropped = img.crop(bbboxes[i+photo_number*3][k])\n",
    "                cropped.save(\"result_image/cv_scut\"+str(k)+names[i+photo_number*3])\n",
    "            s_image_path = os.path.join(image_path_root, names[i+photo_number*3])\n",
    "            viewBBoxes(s_image_path, bboxes, scores)\n",
    "                             \n",
    "    elif marks[i+photo_number]<marks[i] and marks[i+photo_number*2] < marks[i] and marks[i+photo_number*3]<marks[i]:\n",
    "        bboxes = bbboxes[i]\n",
    "        scores = marks[i]\n",
    "    \n",
    "        img = Image.open(\"example_images/\"+names[i])\n",
    "        for j in range(5):\n",
    "            cropped = img.crop(bbboxes[i][j])\n",
    "            cropped.save(\"result_image/cv_cut\"+str(j)+names[i])\n",
    "        s_image_path = os.path.join(image_path_root, names[i])\n",
    "        viewBBoxes(s_image_path, bboxes, scores)\n",
    "                             \n",
    "        if marks[i+photo_number*2]<marks[i+photo_number] and marks[i+photo_number*3]<marks[i+photo_number]:\n",
    "            bboxes = bbboxes[i+photo_number]\n",
    "            scores = marks[i+photo_number]\n",
    "            \n",
    "            img = Image.open(\"example_images/\"+names[i+photo_number])\n",
    "            for k in range(5):\n",
    "                cropped = img.crop(bbboxes[i+photo_number][k])\n",
    "                cropped.save(\"result_image/cv_scut\"+str(k)+names[i+photo_number])\n",
    "            s_image_path = os.path.join(image_path_root, names[i+photo_number])\n",
    "            viewBBoxes(s_image_path, bboxes, scores)\n",
    "                             \n",
    "        elif marks[i+photo_number]<marks[i+photo_number*2] and marks[i+photo_number*3]<marks[i+photo_number*2]:\n",
    "            bboxes = bbboxes[i+photo_number*2]\n",
    "            scores = marks[i+photo_number*2]\n",
    "                             \n",
    "            img = Image.open(\"example_images/\"+names[i+photo_number*2])\n",
    "            for k in range(5):\n",
    "                cropped = img.crop(bbboxes[i+photo_number*2][k])\n",
    "                cropped.save(\"result_image/cv_scut\"+str(k)+names[i+photo_number*2])\n",
    "            s_image_path = os.path.join(image_path_root, names[i+photo_number*2])\n",
    "            viewBBoxes(s_image_path, bboxes, scores)\n",
    "                             \n",
    "        elif marks[i+photo_number]<marks[i+photo_number*3] and marks[i+photo_number*2]<marks[i+photo_number*3]:\n",
    "            bboxes = bbboxes[i+photo_number*3]\n",
    "            scores = marks[i+photo_number*3]\n",
    "                             \n",
    "            img = Image.open(\"example_images/\"+names[i+photo_number*3])\n",
    "            for k in range(5):\n",
    "                cropped = img.crop(bbboxes[i+photo_number*3][k])\n",
    "                cropped.save(\"result_image/cv_scut\"+str(k)+names[i+photo_number*3])\n",
    "            s_image_path = os.path.join(image_path_root, names[i+photo_number*3])\n",
    "            viewBBoxes(s_image_path, bboxes, scores)\n",
    "                             \n",
    "    elif marks[i]<marks[i+photo_number*2] and marks[i+photo_number] < marks[i+photo_number*2] and marks[i+photo_number*3]<marks[i+photo_number*2]:\n",
    "        bboxes = bbboxes[i+photo_number*2]\n",
    "        scores = marks[i+photo_number*2]\n",
    "    \n",
    "        img = Image.open(\"example_images/\"+names[i+photo_number*2])\n",
    "        for j in range(5):\n",
    "            cropped = img.crop(bbboxes[i+photo_number*2][j])\n",
    "            cropped.save(\"result_image/cv_cut\"+str(j)+names[i+photo_number*2])\n",
    "        s_image_path = os.path.join(image_path_root, names[i+photo_number*2])\n",
    "        viewBBoxes(s_image_path, bboxes, scores)\n",
    "                             \n",
    "        if marks[i+photo_number]<marks[i] and marks[i+photo_number*3]<marks[i]:\n",
    "            bboxes = bbboxes[i]\n",
    "            scores = marks[i]\n",
    "            \n",
    "            img = Image.open(\"example_images/\"+names[i])\n",
    "            for k in range(5):\n",
    "                cropped = img.crop(bbboxes[i][k])\n",
    "                cropped.save(\"result_image/cv_scut\"+str(k)+names[i])\n",
    "            s_image_path = os.path.join(image_path_root, names[i])\n",
    "            viewBBoxes(s_image_path, bboxes, scores)\n",
    "                             \n",
    "        elif marks[i]<marks[i+photo_number] and marks[i+photo_number*3]<marks[i+photo_number]:\n",
    "            bboxes = bbboxes[i+photo_number]\n",
    "            scores = marks[i+photo_number]\n",
    "                             \n",
    "            img = Image.open(\"example_images/\"+names[i+photo_number])\n",
    "            for k in range(5):\n",
    "                cropped = img.crop(bbboxes[i+photo_number][k])\n",
    "                cropped.save(\"result_image/cv_scut\"+str(k)+names[i+photo_number])\n",
    "            s_image_path = os.path.join(image_path_root, names[i+photo_number])\n",
    "            viewBBoxes(s_image_path, bboxes, scores)\n",
    "                             \n",
    "        elif marks[i+photo_number]<marks[i+photo_number*3] and marks[i]<marks[i+photo_number*3]:\n",
    "            bboxes = bbboxes[i+photo_number*3]\n",
    "            scores = marks[i+photo_number*3]\n",
    "                             \n",
    "            img = Image.open(\"example_images/\"+names[i+photo_number*3])\n",
    "            for k in range(5):\n",
    "                cropped = img.crop(bbboxes[i+photo_number*3][k])\n",
    "                cropped.save(\"result_image/cv_scut\"+str(k)+names[i+photo_number*3])\n",
    "            s_image_path = os.path.join(image_path_root, names[i+photo_number*3])\n",
    "            viewBBoxes(s_image_path, bboxes, scores)\n",
    "                             \n",
    "    elif marks[i]<marks[i+photo_number*3] and marks[i+photo_number] < marks[i+photo_number*3] and marks[i+photo_number*2]<marks[i+photo_number*3]:\n",
    "        bboxes = bbboxes[i+photo_number*3]\n",
    "        scores = marks[i+photo_number*3]\n",
    "    \n",
    "        img = Image.open(\"example_images/\"+names[i+photo_number*3])\n",
    "        for j in range(5):\n",
    "            cropped = img.crop(bbboxes[i+photo_number*3][j])\n",
    "            cropped.save(\"result_image/cv_cut\"+str(j)+names[i+photo_number*3])\n",
    "        s_image_path = os.path.join(image_path_root, names[i+photo_number*3])\n",
    "        viewBBoxes(s_image_path, bboxes, scores)\n",
    "                             \n",
    "        if marks[i+photo_number*2]<marks[i] and marks[i+photo_number]<marks[i]:\n",
    "            bboxes = bbboxes[i]\n",
    "            scores = marks[i]\n",
    "            \n",
    "            img = Image.open(\"example_images/\"+names[i])\n",
    "            for k in range(5):\n",
    "                cropped = img.crop(bbboxes[i][k])\n",
    "                cropped.save(\"result_image/cv_scut\"+str(k)+names[i])\n",
    "            s_image_path = os.path.join(image_path_root, names[i])\n",
    "            viewBBoxes(s_image_path, bboxes, scores)\n",
    "                             \n",
    "        elif marks[i]<marks[i+photo_number*2] and marks[i+photo_number]<marks[i+photo_number*2]:\n",
    "            bboxes = bbboxes[i+photo_number*2]\n",
    "            scores = marks[i+photo_number*2]\n",
    "                             \n",
    "            img = Image.open(\"example_images/\"+names[i+photo_number*2])\n",
    "            for k in range(5):\n",
    "                cropped = img.crop(bbboxes[i+photo_number*2][k])\n",
    "                cropped.save(\"result_image/cv_scut\"+str(k)+names[i+photo_number*2])\n",
    "            s_image_path = os.path.join(image_path_root, names[i+photo_number*2])\n",
    "            viewBBoxes(s_image_path, bboxes, scores)\n",
    "                             \n",
    "        elif marks[i]<marks[i+photo_number] and marks[i+photo_number*2]<marks[i+photo_number]:\n",
    "            bboxes = bbboxes[i+photo_number]\n",
    "            scores = marks[i+photo_number]\n",
    "                             \n",
    "            img = Image.open(\"example_images/\"+names[i+photo_number])\n",
    "            for k in range(5):\n",
    "                cropped = img.crop(bbboxes[i+photo_number][k])\n",
    "                cropped.save(\"result_image/cv_scut\"+str(k)+names[i+photo_number])\n",
    "            s_image_path = os.path.join(image_path_root, names[i+photo_number])\n",
    "            viewBBoxes(s_image_path, bboxes, scores)\n",
    "        \n",
    "\n",
    "print(\"DEBUG\")"
   ]
  },
  {
   "cell_type": "code",
   "execution_count": null,
   "metadata": {},
   "outputs": [],
   "source": []
  }
 ],
 "metadata": {
  "kernelspec": {
   "display_name": "Python 3",
   "language": "python",
   "name": "python3"
  },
  "language_info": {
   "codemirror_mode": {
    "name": "ipython",
    "version": 3
   },
   "file_extension": ".py",
   "mimetype": "text/x-python",
   "name": "python",
   "nbconvert_exporter": "python",
   "pygments_lexer": "ipython3",
   "version": "3.7.4"
  }
 },
 "nbformat": 4,
 "nbformat_minor": 2
}
